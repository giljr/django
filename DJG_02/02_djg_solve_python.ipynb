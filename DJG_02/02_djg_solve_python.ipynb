{
 "cells": [
  {
   "cell_type": "markdown",
   "id": "860e3cd9",
   "metadata": {},
   "source": [
    "### Can you solve this in Python?"
   ]
  },
  {
   "cell_type": "raw",
   "id": "b3c1771b",
   "metadata": {},
   "source": [
    "def find_max(nums):\n",
    "    max_num = float(\"-inf\") # smaller than all other numbers\n",
    "    for num in nums:\n",
    "        if num > max_num:\n",
    "            # (Fill in the missing line here)\n",
    "    return max_num"
   ]
  },
  {
   "cell_type": "markdown",
   "id": "c209a76d",
   "metadata": {},
   "source": [
    "#### Here is the solution:"
   ]
  },
  {
   "cell_type": "code",
   "execution_count": 1,
   "id": "041b836a",
   "metadata": {},
   "outputs": [],
   "source": [
    "nums_list = [5,4,3,2,1]"
   ]
  },
  {
   "cell_type": "code",
   "execution_count": 2,
   "id": "1fcffa9d",
   "metadata": {},
   "outputs": [],
   "source": [
    "def find_max(nums):\n",
    "    max_num = float(\"-inf\") # smaller than all other numbers\n",
    "    for num in nums:\n",
    "        if num > max_num:\n",
    "            max_num = num\n",
    "    return max_num"
   ]
  },
  {
   "cell_type": "code",
   "execution_count": 3,
   "id": "11db02a4",
   "metadata": {},
   "outputs": [
    {
     "data": {
      "text/plain": [
       "5"
      ]
     },
     "execution_count": 3,
     "metadata": {},
     "output_type": "execute_result"
    }
   ],
   "source": [
    "### Testing:\n",
    "find_max(nums_list)"
   ]
  },
  {
   "cell_type": "code",
   "execution_count": 4,
   "id": "5e98d9d2",
   "metadata": {},
   "outputs": [
    {
     "name": "stdout",
     "output_type": "stream",
     "text": [
      "Thank you very much. I hope you have a great 2022 o/\n"
     ]
    }
   ],
   "source": [
    "print(\"Thank you very much. I hope you have a great 2022 o/\")"
   ]
  }
 ],
 "metadata": {
  "kernelspec": {
   "display_name": "Python 3 (ipykernel)",
   "language": "python",
   "name": "python3"
  },
  "language_info": {
   "codemirror_mode": {
    "name": "ipython",
    "version": 3
   },
   "file_extension": ".py",
   "mimetype": "text/x-python",
   "name": "python",
   "nbconvert_exporter": "python",
   "pygments_lexer": "ipython3",
   "version": "3.9.7"
  }
 },
 "nbformat": 4,
 "nbformat_minor": 5
}
